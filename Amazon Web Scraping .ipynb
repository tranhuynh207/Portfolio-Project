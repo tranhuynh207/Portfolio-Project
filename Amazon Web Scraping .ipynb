{
 "cells": [
  {
   "cell_type": "code",
   "execution_count": 3,
   "id": "ac248e40",
   "metadata": {},
   "outputs": [],
   "source": [
    "# This project is to check price changes of a certain product on Amazon website \n",
    "\n",
    "# Import libraries \n",
    "\n",
    "from bs4 import BeautifulSoup\n",
    "import requests\n",
    "import time\n",
    "import datetime\n"
   ]
  },
  {
   "cell_type": "code",
   "execution_count": 26,
   "id": "7ca55775",
   "metadata": {},
   "outputs": [
    {
     "name": "stdout",
     "output_type": "stream",
     "text": [
      "\n",
      "          Everything Data Analytics-A Beginner's Guide to Data Literacy: Understanding the Processes That Turn Data Into Insights (Guides for Data Analytics, Data Visualization, and Communicating Data)\n",
      "         \n",
      "\n",
      "                          $14.49\n",
      "                         \n"
     ]
    }
   ],
   "source": [
    "# Connect to Website and pull in data\n",
    "# Get \"User-Agent\" from 'https://httpbin.org/get'\n",
    "\n",
    "URL = 'https://www.amazon.com/Everything-Analytics-Beginners-Guide-Literacy/dp/1777967139/ref=sr_1_2_sspa?keywords=data+analytics&qid=1664197395&qu=eyJxc2MiOiI1LjY1IiwicXNhIjoiNS4zMyIsInFzcCI6IjUuMzMifQ%3D%3D&sprefix=data+ana%2Caps%2C138&sr=8-2-spons&psc=1&spLa=ZW5jcnlwdGVkUXVhbGlmaWVyPUFWWURSVUVHOVVYMVkmZW5jcnlwdGVkSWQ9QTAwMDk1NjIxQjVVTllIVFZCSU5IJmVuY3J5cHRlZEFkSWQ9QTA5NjkxNzUxMkZLQlBSNlI3NlozJndpZGdldE5hbWU9c3BfYXRmJmFjdGlvbj1jbGlja1JlZGlyZWN0JmRvTm90TG9nQ2xpY2s9dHJ1ZQ=='\n",
    "\n",
    "headers = {\"User-Agent\": \"Mozilla/5.0 (Macintosh; Intel Mac OS X 10_15_7) AppleWebKit/537.36 (KHTML, like Gecko) Chrome/104.0.0.0 Safari/537.36\", \"Accept-Encoding\":\"gzip, deflate\", \"Accept\":\"text/html,application/xhtml+xml,application/xml;q=0.9,*/*;q=0.8\", \"DNT\":\"1\",\"Connection\":\"close\", \"Upgrade-Insecure-Requests\":\"1\"}\n",
    "\n",
    "page = requests.get(URL, headers=headers)\n",
    "\n",
    "soupl = BeautifulSoup(page.content, \"html.parser\") #get page's html source\n",
    "\n",
    "soup2 = BeautifulSoup(soup1.prettify(), \"html.parser\")\n",
    "                      \n",
    "title = soup2.find(id=\"productTitle\"). get_text()  #highlight the text and click on 'Inspect' (MAC's user) to find html code\n",
    "\n",
    "price = soup2.find(id=\"newBuyBoxPrice\").get_text()\n",
    "\n",
    "print (title)\n",
    "\n",
    "print (price)\n",
    "                      "
   ]
  },
  {
   "cell_type": "code",
   "execution_count": 27,
   "id": "16b2723b",
   "metadata": {},
   "outputs": [
    {
     "name": "stdout",
     "output_type": "stream",
     "text": [
      "Everything Data Analytics-A Beginner's Guide to Data Literacy: Understanding the Processes That Turn Data Into Insights (Guides for Data Analytics, Data Visualization, and Communicating Data)\n",
      "14.49\n"
     ]
    }
   ],
   "source": [
    "# Make a better look\n",
    "\n",
    "title = title.strip()\n",
    "price = price.strip()[1:]\n",
    "\n",
    "print (title)\n",
    "\n",
    "print (price)"
   ]
  },
  {
   "cell_type": "code",
   "execution_count": 70,
   "id": "2674a271",
   "metadata": {},
   "outputs": [],
   "source": [
    "import datetime\n",
    "\n",
    "date = datetime.date.today()"
   ]
  },
  {
   "cell_type": "code",
   "execution_count": 36,
   "id": "7f840b8e",
   "metadata": {},
   "outputs": [],
   "source": [
    "#Create an csv file\n",
    "\n",
    "import csv \n",
    "\n",
    "header = [\"Title\", \"Price\", \"Date\"]\n",
    "data = [title, price, date]"
   ]
  },
  {
   "cell_type": "code",
   "execution_count": 37,
   "id": "5247d30c",
   "metadata": {},
   "outputs": [],
   "source": [
    "#with open('AmazonWebScraperDataset.csv', 'w', newline='', encoding='UTF8') as f:\n",
    "    #writer = csv.writer(f)\n",
    "    #writer.writerow(header)\n",
    "    #writer.writerow(data)"
   ]
  },
  {
   "cell_type": "code",
   "execution_count": 38,
   "id": "89ea83e6",
   "metadata": {},
   "outputs": [],
   "source": [
    "import pandas as pd\n",
    "\n",
    "df = pd.read_csv('/Users/Admin/Portfolio/AmazonWebScraperDataset.csv')"
   ]
  },
  {
   "cell_type": "code",
   "execution_count": 51,
   "id": "b17dfd40",
   "metadata": {},
   "outputs": [
    {
     "name": "stdout",
     "output_type": "stream",
     "text": [
      "                                               Title  Price        Date\n",
      "0  Everything Data Analytics-A Beginner's Guide t...  14.49  2022-09-26\n"
     ]
    }
   ],
   "source": [
    "print (df)"
   ]
  },
  {
   "cell_type": "code",
   "execution_count": 53,
   "id": "2c14c67f",
   "metadata": {},
   "outputs": [],
   "source": [
    "# Appending data to the csv\n",
    "\n",
    "with open('AmazonWebScraperDataset.csv', 'a+', newline='', encoding='UTF8') as f:\n",
    "    writer = csv.writer(f)\n",
    "    writer.writerow(data)"
   ]
  },
  {
   "cell_type": "code",
   "execution_count": 61,
   "id": "e44f8ba3",
   "metadata": {},
   "outputs": [],
   "source": [
    "def checkprice ():\n",
    "    \n",
    "    URL = 'https://www.amazon.com/Everything-Analytics-Beginners-Guide-Literacy/dp/1777967139/ref=sr_1_2_sspa?keywords=data+analytics&qid=1664197395&qu=eyJxc2MiOiI1LjY1IiwicXNhIjoiNS4zMyIsInFzcCI6IjUuMzMifQ%3D%3D&sprefix=data+ana%2Caps%2C138&sr=8-2-spons&psc=1&spLa=ZW5jcnlwdGVkUXVhbGlmaWVyPUFWWURSVUVHOVVYMVkmZW5jcnlwdGVkSWQ9QTAwMDk1NjIxQjVVTllIVFZCSU5IJmVuY3J5cHRlZEFkSWQ9QTA5NjkxNzUxMkZLQlBSNlI3NlozJndpZGdldE5hbWU9c3BfYXRmJmFjdGlvbj1jbGlja1JlZGlyZWN0JmRvTm90TG9nQ2xpY2s9dHJ1ZQ=='\n",
    "\n",
    "    headers = {\"User-Agent\": \"Mozilla/5.0 (Macintosh; Intel Mac OS X 10_15_7) AppleWebKit/537.36 (KHTML, like Gecko) Chrome/104.0.0.0 Safari/537.36\", \"Accept-Encoding\":\"gzip, deflate\", \"Accept\":\"text/html,application/xhtml+xml,application/xml;q=0.9,*/*;q=0.8\", \"DNT\":\"1\",\"Connection\":\"close\", \"Upgrade-Insecure-Requests\":\"1\"}\n",
    "\n",
    "    page = requests.get(URL, headers=headers)\n",
    "\n",
    "    soupl = BeautifulSoup(page.content, \"html.parser\") #get page's html source\n",
    "\n",
    "    soup2 = BeautifulSoup(soup1.prettify(), \"html.parser\")\n",
    "                      \n",
    "    title = soup2.find(id=\"productTitle\").get_text()  #highlight the text and click on 'Inspect' (MAC user) to find html code\n",
    "    \n",
    "    price = soup2.find(id=\"newBuyBoxPrice\").get_text()\n",
    "    \n",
    "    title = title.strip()\n",
    "\n",
    "    price = price.strip()[1:]\n",
    "    \n",
    "    import datetime\n",
    "\n",
    "    date = datetime.date.today()\n",
    "    \n",
    "    import csv \n",
    "\n",
    "    header = [\"Title\", \"Price\", \"Date\"]\n",
    "    data = [title, price, date]\n",
    "\n",
    "    with open('AmazonWebScraperDataset.csv', 'a+', newline='', encoding='UTF8') as f:\n",
    "        writer = csv.writer(f)\n",
    "        writer.writerow(data)\n",
    "    \n",
    "    "
   ]
  },
  {
   "cell_type": "code",
   "execution_count": 68,
   "id": "c1ee1f80",
   "metadata": {},
   "outputs": [
    {
     "ename": "KeyboardInterrupt",
     "evalue": "",
     "output_type": "error",
     "traceback": [
      "\u001b[0;31m---------------------------------------------------------------------------\u001b[0m",
      "\u001b[0;31mKeyboardInterrupt\u001b[0m                         Traceback (most recent call last)",
      "Input \u001b[0;32mIn [68]\u001b[0m, in \u001b[0;36m<cell line: 4>\u001b[0;34m()\u001b[0m\n\u001b[1;32m      3\u001b[0m \u001b[38;5;28;01mwhile\u001b[39;00m(\u001b[38;5;28;01mTrue\u001b[39;00m):\n\u001b[1;32m      4\u001b[0m     checkprice()\n\u001b[0;32m----> 5\u001b[0m     \u001b[43mtime\u001b[49m\u001b[38;5;241;43m.\u001b[39;49m\u001b[43msleep\u001b[49m\u001b[43m(\u001b[49m\u001b[38;5;241;43m5\u001b[39;49m\u001b[43m)\u001b[49m\n",
      "\u001b[0;31mKeyboardInterrupt\u001b[0m: "
     ]
    }
   ],
   "source": [
    "# Runs check_price after a set time and inputs data into your CSV\n",
    "\n",
    "while(True):\n",
    "    checkprice()\n",
    "    time.sleep(5)"
   ]
  },
  {
   "cell_type": "code",
   "execution_count": 69,
   "id": "f91243fd",
   "metadata": {},
   "outputs": [
    {
     "name": "stdout",
     "output_type": "stream",
     "text": [
      "                                                Title  Price        Date\n",
      "0   Everything Data Analytics-A Beginner's Guide t...  14.49  2022-09-26\n",
      "1   Everything Data Analytics-A Beginner's Guide t...  14.49  2022-09-26\n",
      "2   Everything Data Analytics-A Beginner's Guide t...  14.49  2022-09-26\n",
      "3   Everything Data Analytics-A Beginner's Guide t...  14.49  2022-09-26\n",
      "4   Everything Data Analytics-A Beginner's Guide t...  14.49  2022-09-26\n",
      "..                                                ...    ...         ...\n",
      "58  Everything Data Analytics-A Beginner's Guide t...  14.49  2022-09-26\n",
      "59  Everything Data Analytics-A Beginner's Guide t...  14.49  2022-09-26\n",
      "60  Everything Data Analytics-A Beginner's Guide t...  14.49  2022-09-26\n",
      "61  Everything Data Analytics-A Beginner's Guide t...  14.49  2022-09-26\n",
      "62  Everything Data Analytics-A Beginner's Guide t...  14.49  2022-09-26\n",
      "\n",
      "[63 rows x 3 columns]\n"
     ]
    }
   ],
   "source": [
    "import pandas as pd\n",
    "\n",
    "df = pd.read_csv('/Users/Admin/Portfolio/AmazonWebScraperDataset.csv')\n",
    "\n",
    "print(df)"
   ]
  }
 ],
 "metadata": {
  "kernelspec": {
   "display_name": "Python 3 (ipykernel)",
   "language": "python",
   "name": "python3"
  },
  "language_info": {
   "codemirror_mode": {
    "name": "ipython",
    "version": 3
   },
   "file_extension": ".py",
   "mimetype": "text/x-python",
   "name": "python",
   "nbconvert_exporter": "python",
   "pygments_lexer": "ipython3",
   "version": "3.9.12"
  }
 },
 "nbformat": 4,
 "nbformat_minor": 5
}
